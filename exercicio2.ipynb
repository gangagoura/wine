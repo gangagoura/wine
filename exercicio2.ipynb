{
  "nbformat": 4,
  "nbformat_minor": 0,
  "metadata": {
    "colab": {
      "provenance": [],
      "authorship_tag": "ABX9TyOkCOF0X14pEYQ1+kRwBRjr",
      "include_colab_link": true
    },
    "kernelspec": {
      "name": "python3",
      "display_name": "Python 3"
    },
    "language_info": {
      "name": "python"
    }
  },
  "cells": [
    {
      "cell_type": "markdown",
      "metadata": {
        "id": "view-in-github",
        "colab_type": "text"
      },
      "source": [
        "<a href=\"https://colab.research.google.com/github/gangagoura/wine/blob/master/exercicio2.ipynb\" target=\"_parent\"><img src=\"https://colab.research.google.com/assets/colab-badge.svg\" alt=\"Open In Colab\"/></a>"
      ]
    },
    {
      "cell_type": "code",
      "execution_count": 44,
      "metadata": {
        "colab": {
          "base_uri": "https://localhost:8080/",
          "height": 298
        },
        "id": "zjXX6ujdu4_r",
        "outputId": "229e56e4-3220-4860-a1d4-aa5509e3dde4"
      },
      "outputs": [
        {
          "output_type": "execute_result",
          "data": {
            "text/plain": [
              "[<matplotlib.lines.Line2D at 0x7fe46ec2fcd0>]"
            ]
          },
          "metadata": {},
          "execution_count": 44
        },
        {
          "output_type": "display_data",
          "data": {
            "text/plain": [
              "<Figure size 432x288 with 1 Axes>"
            ],
            "image/png": "[encoded data removed]"
          },
          "metadata": {
            "needs_background": "light"
          }
        }
      ],
      "source": [
        "import matplotlib.pyplot as plt\n",
        "\n",
        "def menu(x, a, b, c):\n",
        "  y = a*x + b*x - c\n",
        "  return y\n",
        "\n",
        "\n",
        "x1 = 5\n",
        "x2 = 7\n",
        "x3 = 9\n",
        "\n",
        "\n",
        "a = 1\n",
        "b = 2\n",
        "c = 3\n",
        "\n",
        "\n",
        "plt.title('equação a*x + b*x - c')\n",
        "plt.grid()\n",
        "\n",
        "plt.plot(x1,menu(x1, a, b, c), marker=\"o\", markersize=15,markerfacecolor='blue')\n",
        "plt.plot(x2,menu(x2, a, b, c), marker=\"o\", markersize=15,markerfacecolor='red')\n",
        "plt.plot(x3,menu(x3, a, b, c), marker=\"o\",markersize=15,markerfacecolor='black')\n",
        "\n",
        "\n",
        "\n",
        "\n"
      ]
    }
  ]
}
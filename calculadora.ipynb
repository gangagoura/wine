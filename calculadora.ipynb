{
  "nbformat": 4,
  "nbformat_minor": 0,
  "metadata": {
    "colab": {
      "provenance": [],
      "authorship_tag": "ABX9TyNyhjd+4PrgMxoRKWY01bfK",
      "include_colab_link": true
    },
    "kernelspec": {
      "name": "python3",
      "display_name": "Python 3"
    },
    "language_info": {
      "name": "python"
    }
  },
  "cells": [
    {
      "cell_type": "markdown",
      "metadata": {
        "id": "view-in-github",
        "colab_type": "text"
      },
      "source": [
        "<a href=\"https://colab.research.google.com/github/gangagoura/wine/blob/master/calculadora.ipynb\" target=\"_parent\"><img src=\"https://colab.research.google.com/assets/colab-badge.svg\" alt=\"Open In Colab\"/></a>"
      ]
    },
    {
      "cell_type": "code",
      "execution_count": 6,
      "metadata": {
        "colab": {
          "base_uri": "https://localhost:8080/"
        },
        "id": "-AM8EBcj6AgZ",
        "outputId": "90c64cb7-f9a8-4e1d-900b-9abd9a408f9c"
      },
      "outputs": [
        {
          "output_type": "stream",
          "name": "stdout",
          "text": [
            "digite uma expressão matemática345*567\n",
            " 0 resultado é 195615\n"
          ]
        }
      ],
      "source": [
        "expressao_matematica = input('digite uma expressão matemática')\n",
        "\n",
        "resultado = eval(expressao_matematica)\n",
        "\n",
        "print( ' 0 resultado é', resultado)\n",
        "\n",
        "\n"
      ]
    }
  ]
}
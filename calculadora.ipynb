{
  "nbformat": 4,
  "nbformat_minor": 0,
  "metadata": {
    "colab": {
      "provenance": [],
      "authorship_tag": "ABX9TyMbc6+/u1H3fnCanqqVmYbf",
      "include_colab_link": true
    },
    "kernelspec": {
      "name": "python3",
      "display_name": "Python 3"
    },
    "language_info": {
      "name": "python"
    }
  },
  "cells": [
    {
      "cell_type": "markdown",
      "metadata": {
        "id": "view-in-github",
        "colab_type": "text"
      },
      "source": [
        "<a href=\"https://colab.research.google.com/github/gangagoura/wine/blob/master/calculadora.ipynb\" target=\"_parent\"><img src=\"https://colab.research.google.com/assets/colab-badge.svg\" alt=\"Open In Colab\"/></a>"
      ]
    },
    {
      "cell_type": "code",
      "execution_count": null,
      "metadata": {
        "id": "-AM8EBcj6AgZ"
      },
      "outputs": [],
      "source": [
        "expressao_matematica = input('digite um cálculo matemático') # inicio da calculadora\n",
        "\n",
        "resultado = eval(expressao_matematica) # resultado da expressão matemática\n",
        "\n",
        "\n",
        "\n",
        "print( 'O resultado é', resultado) #print do resulado de expressão matemática\n",
        "\n",
        "\n"
      ]
    }
  ]
}
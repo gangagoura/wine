{
  "nbformat": 4,
  "nbformat_minor": 0,
  "metadata": {
    "colab": {
      "provenance": [],
      "authorship_tag": "ABX9TyOVwfAjpMQ+NQy35K1TV08H",
      "include_colab_link": true
    },
    "kernelspec": {
      "name": "python3",
      "display_name": "Python 3"
    },
    "language_info": {
      "name": "python"
    }
  },
  "cells": [
    {
      "cell_type": "markdown",
      "metadata": {
        "id": "view-in-github",
        "colab_type": "text"
      },
      "source": [
        "<a href=\"https://colab.research.google.com/github/gangagoura/wine/blob/master/calculadora.ipynb\" target=\"_parent\"><img src=\"https://colab.research.google.com/assets/colab-badge.svg\" alt=\"Open In Colab\"/></a>"
      ]
    },
    {
      "cell_type": "code",
      "execution_count": 4,
      "metadata": {
        "colab": {
          "base_uri": "https://localhost:8080/"
        },
        "id": "-AM8EBcj6AgZ",
        "outputId": "634c27a2-8255-4199-99e7-53f3ce1ec3a7"
      },
      "outputs": [
        {
          "output_type": "stream",
          "name": "stdout",
          "text": [
            "digite uma expressão matemática4*5*5*67\n",
            "O resultado é 6700\n"
          ]
        }
      ],
      "source": [
        "expressao_matematica = input('digite uma expressão matemática')# inicio da calculadora\n",
        "\n",
        "resultado = eval(expressao_matematica) # resultado da expressão matemática\n",
        "\n",
        "print( 'O resultado é', resultado) #print do resulado de expressão matemática\n",
        "\n",
        "\n"
      ]
    }
  ]
}